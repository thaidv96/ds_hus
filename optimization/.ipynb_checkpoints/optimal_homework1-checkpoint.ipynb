{
 "cells": [
  {
   "cell_type": "markdown",
   "metadata": {},
   "source": [
    "## Đọc dữ liệu"
   ]
  },
  {
   "cell_type": "code",
   "execution_count": 1,
   "metadata": {},
   "outputs": [],
   "source": [
    "import numpy as np\n",
    "import pandas as pd\n",
    "import sklearn as sk\n"
   ]
  },
  {
   "cell_type": "code",
   "execution_count": 35,
   "metadata": {},
   "outputs": [
    {
     "name": "stdout",
     "output_type": "stream",
     "text": [
      "21597 19\n"
     ]
    }
   ],
   "source": [
    "df = pd.read_csv(\"kc_house_data.csv\").values\n",
    "y = df[:,2]\n",
    "X = df[:,3:21]\n",
    "N = df.shape[0]\n",
    "X = np.array(X, dtype=np.float64)\n",
    "mean = X.mean(axis = 0)\n",
    "std = X.std(axis = 0)\n",
    "X = (X - mean)/std\n",
    "X = np.hstack((np.ones((N, 1)), X))\n",
    "y = (y - np.mean(y))/np.std(y)\n",
    "D= X.shape[1]\n",
    "print(N,D)"
   ]
  },
  {
   "cell_type": "code",
   "execution_count": 3,
   "metadata": {},
   "outputs": [],
   "source": [
    "# ham gradient\n",
    "def grad(anpha, X, y):\n",
    "    return X.T.dot(X.dot(anpha) - y)"
   ]
  },
  {
   "cell_type": "code",
   "execution_count": 4,
   "metadata": {},
   "outputs": [],
   "source": [
    "# Cai dat thuat toan gradient descent\n",
    "def myGD(anpha_init, grad, t, X, y):\n",
    "    anpha = [anpha_init]\n",
    "    for it in range(1000): # so buoc lap toi da\n",
    "        anpha_new = anpha[-1] - t*grad(anpha[-1], X, y)\n",
    "        if (np.linalg.norm(grad(anpha_new, X, y))/len(anpha_new)) < 1e-4:\n",
    "            break\n",
    "        anpha.append(anpha_new)\n",
    "    return (anpha, it)"
   ]
  },
  {
   "cell_type": "code",
   "execution_count": 34,
   "metadata": {},
   "outputs": [
    {
     "name": "stdout",
     "output_type": "stream",
     "text": [
      "[nan nan nan nan nan nan nan nan nan nan nan nan nan nan nan nan nan nan\n",
      " nan]\n",
      "999\n"
     ]
    }
   ],
   "source": [
    "anpha_init = np.zeros(D).T # khoi tao gia tri anpha\n",
    "(anpha1, it1) = myGD(anpha_init, grad, 0.00001, X, y) ## cho gia tri t=1 hoac 1/2 \n",
    "#(anpha1, it1) = myGD(anpha_init, grad, 0.05, X, y) ## cho gia tri t=1 hoac 1/2 ra gia tri nan, kha nang tran so\n",
    "print(anpha1[-1])\n",
    "print(it1)"
   ]
  },
  {
   "cell_type": "code",
   "execution_count": 16,
   "metadata": {},
   "outputs": [],
   "source": [
    "def cost(anpha, X, y):\n",
    "    return 0.5*np.linalg.norm(y - X.dot(anpha))**2"
   ]
  },
  {
   "cell_type": "code",
   "execution_count": 32,
   "metadata": {},
   "outputs": [
    {
     "data": {
      "text/plain": [
       "10798.500000000118"
      ]
     },
     "execution_count": 32,
     "metadata": {},
     "output_type": "execute_result"
    }
   ],
   "source": [
    "cost(anpha_init,X,y)"
   ]
  },
  {
   "cell_type": "code",
   "execution_count": 33,
   "metadata": {},
   "outputs": [
    {
     "name": "stdout",
     "output_type": "stream",
     "text": [
      "[-0.8667162726428617 -0.006251567366730247 -0.9807734417383058 ...\n",
      " -0.3761860595600899 -0.3819052507837063 -0.5860648613364107]\n"
     ]
    }
   ],
   "source": [
    "print(y)"
   ]
  },
  {
   "cell_type": "code",
   "execution_count": 22,
   "metadata": {},
   "outputs": [
    {
     "data": {
      "text/plain": [
       "1190306066.6963282"
      ]
     },
     "execution_count": 22,
     "metadata": {},
     "output_type": "execute_result"
    }
   ],
   "source": [
    "anpha = [anpha_init]\n",
    "cost(anpha[-1],X,y)\n",
    "np.linalg.norm(grad(anpha[-1],X,y))**2\n",
    "#o.5 * 0.5 * np.linalg.norm(grad(anpha[-1],X,y))**2"
   ]
  },
  {
   "cell_type": "code",
   "execution_count": 25,
   "metadata": {},
   "outputs": [],
   "source": [
    "def myGD_backtracking(anpha_init, t_init, grad, cost, X, y, alpha, beta):\n",
    "    anpha = [anpha_init]\n",
    "    it =0\n",
    "    t = t_init\n",
    "    anpha_new = anpha[-1] - t*grad(anpha[-1],X,y)\n",
    "    while cost(anpha_new,X,y) > (cost(anpha[-1],X,y) - alpha * t * np.linalg.norm(grad(anpha[-1],X,y))**2):\n",
    "        t = beta * t\n",
    "        it = it +1\n",
    "        anpha_new = anpha[-1] - t*grad(anpha[-1],X,y)\n",
    "        anpha.append(anpha_new)\n",
    "    return (anpha, it)\n"
   ]
  },
  {
   "cell_type": "code",
   "execution_count": 28,
   "metadata": {},
   "outputs": [
    {
     "name": "stdout",
     "output_type": "stream",
     "text": [
      "[0. 0. 0. 0. 0. 0. 0. 0. 0. 0. 0. 0. 0. 0. 0. 0. 0. 0. 0.]\n",
      "0\n"
     ]
    }
   ],
   "source": [
    "anpha_init = np.zeros(D).T \t# Khoi tao gi tri anpha\n",
    "t_init = 0.00001\n",
    "beta = 0.5\n",
    "alpha = 0.5\n",
    "\n",
    "(anpha2, it2) = myGD_backtracking(anpha_init, t_init, grad, cost, X, y, alpha, beta)\n",
    "print(anpha2[-1])\n",
    "print(it2)\n"
   ]
  },
  {
   "cell_type": "code",
   "execution_count": 29,
   "metadata": {},
   "outputs": [],
   "source": [
    "def myAC(anpha_init,grad, t, X, y):\n",
    "    anpha = [anpha_init, anpha_init]\n",
    "    for it in range(1000): \n",
    "        v = anpha[-1] - (it -2)/(it+1) * (anpha[-1] - anpha[-2])\n",
    "        anpha_new = v - t*grad(v,X,y)\n",
    "        if np.linalg.norm(grad(anpha_new, X, y))/len(anpha_new) < 1e-4:\n",
    "            break\n",
    "        anpha.append(anpha_new)    \n",
    "    return(anpha, it)\n"
   ]
  },
  {
   "cell_type": "code",
   "execution_count": 30,
   "metadata": {},
   "outputs": [
    {
     "name": "stdout",
     "output_type": "stream",
     "text": [
      "[-1.087408980467688e-15 -0.08967185519637882 0.08640590960110073\n",
      " 0.22219906156563954 0.014534044328664853 0.009510908057207534\n",
      " 0.1374092152797968 0.11011405658860456 0.047448519692736474\n",
      " 0.30981439553643547 0.2073210110280118 0.07317073617514129\n",
      " -0.21012358328883965 0.021691379310951196 -0.08475587597240151\n",
      " 0.22710233260468485 -0.08258195644185075 0.03946688028144271\n",
      " -0.02900636605314943]\n",
      "546\n"
     ]
    }
   ],
   "source": [
    "anpha_init = np.zeros(D).T\n",
    "(anpha3, it3) = myAC(anpha_init, grad, 0.00001, X, y) ## cho gia tri t=1 hoac 1/2 \n",
    "print(anpha3[-1])\n",
    "print(it3)"
   ]
  },
  {
   "cell_type": "code",
   "execution_count": null,
   "metadata": {},
   "outputs": [],
   "source": [
    "\n"
   ]
  },
  {
   "cell_type": "code",
   "execution_count": null,
   "metadata": {},
   "outputs": [],
   "source": []
  },
  {
   "cell_type": "code",
   "execution_count": null,
   "metadata": {},
   "outputs": [],
   "source": [
    "\n"
   ]
  },
  {
   "cell_type": "code",
   "execution_count": null,
   "metadata": {},
   "outputs": [],
   "source": []
  },
  {
   "cell_type": "code",
   "execution_count": null,
   "metadata": {},
   "outputs": [],
   "source": []
  },
  {
   "cell_type": "code",
   "execution_count": null,
   "metadata": {},
   "outputs": [],
   "source": []
  },
  {
   "cell_type": "code",
   "execution_count": null,
   "metadata": {},
   "outputs": [],
   "source": []
  },
  {
   "cell_type": "code",
   "execution_count": null,
   "metadata": {},
   "outputs": [],
   "source": []
  },
  {
   "cell_type": "code",
   "execution_count": null,
   "metadata": {},
   "outputs": [],
   "source": []
  },
  {
   "cell_type": "code",
   "execution_count": null,
   "metadata": {},
   "outputs": [],
   "source": []
  },
  {
   "cell_type": "code",
   "execution_count": null,
   "metadata": {},
   "outputs": [],
   "source": []
  },
  {
   "cell_type": "code",
   "execution_count": null,
   "metadata": {},
   "outputs": [],
   "source": []
  },
  {
   "cell_type": "code",
   "execution_count": null,
   "metadata": {},
   "outputs": [],
   "source": []
  },
  {
   "cell_type": "code",
   "execution_count": null,
   "metadata": {},
   "outputs": [],
   "source": []
  },
  {
   "cell_type": "code",
   "execution_count": null,
   "metadata": {},
   "outputs": [],
   "source": []
  },
  {
   "cell_type": "code",
   "execution_count": null,
   "metadata": {},
   "outputs": [],
   "source": []
  },
  {
   "cell_type": "code",
   "execution_count": null,
   "metadata": {},
   "outputs": [],
   "source": []
  },
  {
   "cell_type": "code",
   "execution_count": null,
   "metadata": {},
   "outputs": [],
   "source": []
  }
 ],
 "metadata": {
  "kernelspec": {
   "display_name": "Python 3",
   "language": "python",
   "name": "python3"
  },
  "language_info": {
   "codemirror_mode": {
    "name": "ipython",
    "version": 3
   },
   "file_extension": ".py",
   "mimetype": "text/x-python",
   "name": "python",
   "nbconvert_exporter": "python",
   "pygments_lexer": "ipython3",
   "version": "3.7.3"
  }
 },
 "nbformat": 4,
 "nbformat_minor": 2
}
