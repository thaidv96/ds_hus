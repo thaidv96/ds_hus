{
 "cells": [
  {
   "cell_type": "markdown",
   "metadata": {},
   "source": [
    "# Linear Regression\n",
    "\n",
    "## Linear model $$y = f(x) = X\\beta$$\n",
    "\n",
    "Given : \n",
    "\n",
    "- $y$: dependent variable (a vector with the shape of $N x 1$ where $N$ is the number of samples)\n",
    "\n",
    "- $X$: independent variables (a matrix of shape $N x D$ where $N$ is the number of samples and $D$ is the number of features)\n",
    "\n",
    "- $\\beta$: model's parameters (a vector of shape $D x 1$)\n",
    "\n",
    "## Metric for the performance of the model\n",
    "\n",
    "The performance of the model can be measured by Mean Square Error (MSE) metric, i.e:\n",
    "\n",
    "$$L = \\frac{1}{N}\\sum_{i=1}^N (y_i - f(x_i))^2 = \\frac{1}{N}||y - X\\beta||_2^2 = \\frac{1}{N}(y - X\\beta)^T(y - X\\beta)$$ \n",
    "\n",
    "The lower MSE (value of L) the better model\n",
    "\n",
    "## Construct the optimization problem\n",
    "\n",
    "\n",
    "\n",
    "$$\\beta = argmin_{\\beta} L = argmin_{\\beta}\\frac{1}{N}(y - X\\beta)^T(y - X\\beta)\\:\\:\\:(*)$$ \n",
    "\n",
    "In this assignment, we will use Stochastics Gradient Descent (SGD), Minibatch Gradient Descent and Newton Methods to solve the convex optimization problem (\\*)\n",
    "\n",
    "Firstly, we can find out the gradient of $L$ w.r.t $\\beta$ and the Hessian matrix of $L$ w.r.t. $\\beta$ as below:\n",
    "\n",
    "$$\\nabla_{\\beta} L = \\nabla_{\\beta} \\frac{1}{N}(y - X\\beta)^T(y - X\\beta) = \\frac{-2}{N}X^T(y-X\\beta)$$\n",
    "\n",
    "$$\\nabla^2_{\\beta}L = \\frac{d}{d\\beta}\\frac{-2}{N}X^T(y-X\\beta) = \\frac{2}{N}X^TX$$\n",
    "\n",
    "\n",
    "## Stochastic Gradient Descent method\n",
    "\n",
    "**Idea**: *In each iteration, we use only 1 record from training datasets to calculate the value of gradient of $L$ w.r.t. $\\beta$, then update the value of $\\beta$ by using this value. The algorithm will stop at the given number of steps.* \n",
    "\n",
    "$$\\beta^{k+1} = \\beta^k - t \\nabla L^{k}_{\\beta}$$\n",
    "\n",
    "## Minibatch Gradient Descent method\n",
    "\n",
    "**Idea**: *Similar to SGD, but in each iteration, we use b (batch size) records from training datasets to calculate the value of gradient of $L$ w.r.t. $\\beta$ instead of 1 record* \n",
    "\n",
    "$$\\beta^{k+1} = \\beta^k - t \\nabla L^{k}_{\\beta}$$\n",
    "\n",
    "## Newton method\n",
    "\n",
    "**Idea**: *By using second-order approximation given by Taylor expansion of L and finding the value of beta that minimize the approximation function of L, we get the following formula:*\n",
    "\n",
    "$$\\beta^{(k)} =\\beta^{(k-1)} - \\bigg(\\nabla^2L(\\beta^{(k-1)})\\bigg)^{-1}\\nabla L(\\beta^{(k-1)})$$\n",
    "\n"
   ]
  },
  {
   "cell_type": "markdown",
   "metadata": {},
   "source": [
    "## Implementation for SGD and Minibatch GD"
   ]
  },
  {
   "cell_type": "code",
   "execution_count": 12,
   "metadata": {
    "ExecuteTime": {
     "end_time": "2019-07-05T14:16:55.497949Z",
     "start_time": "2019-07-05T14:16:55.286712Z"
    }
   },
   "outputs": [],
   "source": [
    "## X: N x D matrix\n",
    "## y: N x 1 matrix\n",
    "## beta: D x 1 matrix\n",
    "import numpy as np\n",
    "from datetime import datetime\n",
    "import matplotlib.pyplot as plt\n",
    "\n",
    "def compute_loss(X, y, beta):\n",
    "    y_pred = X.dot(beta)\n",
    "    loss = ((y_pred - y)**2).mean()\n",
    "    return loss\n",
    "\n",
    "def compute_gradient(X, y, beta):\n",
    "    N = X.shape[0]\n",
    "    grad = 2/N * X.T.dot(X.dot(beta) - y)\n",
    "    return grad\n",
    "\n",
    "def compute_loss_v2(y_pred, y):\n",
    "    loss = ((y_pred - y)**2).mean()\n",
    "    return loss\n",
    "\n",
    "def norm_l2(x):\n",
    "    return np.sqrt((x**2).sum())"
   ]
  },
  {
   "cell_type": "code",
   "execution_count": 174,
   "metadata": {
    "ExecuteTime": {
     "end_time": "2019-07-05T14:56:13.365145Z",
     "start_time": "2019-07-05T14:56:13.348219Z"
    }
   },
   "outputs": [],
   "source": [
    "def gen_batch(X,y, bs=1):\n",
    "    num_samples = X.shape[0]\n",
    "    num_batches = num_samples//bs\n",
    "    rd_id = np.random.permutation(num_samples)\n",
    "    X,y = X[rd_id],y[rd_id]\n",
    "    for i in range(num_batches):\n",
    "        start_idx = bs * i\n",
    "        end_idx = bs *(i+1) if bs *(i+1) <= num_samples else num_samples \n",
    "        if start_idx == num_samples:\n",
    "            break\n",
    "        yield (X[start_idx:end_idx], y[start_idx:end_idx])\n",
    "    \n",
    "    \n",
    "def mini_batch_gd(X, y, lr, beta = None, last_beta = None,bs = 1, accelerated= False, step = 0):\n",
    "    if beta is None:\n",
    "        beta = np.zeros((X_normalized.shape[1],1))\n",
    "        last_beta = beta\n",
    "    g = gen_batch(X, y, bs)\n",
    "    losses = []\n",
    "    for X_batch, y_batch in g:\n",
    "        step += 1\n",
    "        grad = compute_gradient(X_batch, y_batch, beta)\n",
    "        loss = compute_loss(X, y, beta)\n",
    "        losses.append(loss)\n",
    "        if not accelerated:\n",
    "            beta = beta - lr * grad\n",
    "        else:\n",
    "            v = beta + (step-1)/(step+2) *(beta - last_beta)\n",
    "            last_beta = beta\n",
    "            grad = compute_gradient(X_batch, y_batch, v)\n",
    "            beta = v - lr * grad\n",
    "        \n",
    "        \n",
    "\n",
    "    return losses, beta, last_beta, step\n",
    "        \n",
    "\n",
    "def minibatch_training(batch_size, num_iters, lr, accelerated =False):\n",
    "    ## Minibatch with simple gradient descent\n",
    "    beta = np.zeros((X_normalized.shape[1],1))\n",
    "    last_beta = np.zeros((X_normalized.shape[1],1))\n",
    "    step=0\n",
    "    losses = []\n",
    "    num_epoches = num_iters//(num_samples//batch_size)\n",
    "    for e in range(num_epoches):\n",
    "        loss, beta, last_beta, step = mini_batch_gd(X_normalized, y, lr, beta, last_beta, bs = batch_size, accelerated=accelerated, step=step)\n",
    "        losses += loss\n",
    "    return losses, beta"
   ]
  },
  {
   "cell_type": "code",
   "execution_count": 175,
   "metadata": {
    "ExecuteTime": {
     "end_time": "2019-07-05T14:56:13.633452Z",
     "start_time": "2019-07-05T14:56:13.617621Z"
    }
   },
   "outputs": [],
   "source": [
    "## Reading data to python\n",
    "import pandas as pd\n",
    "\n",
    "import numpy as np\n",
    "train_data = pd.read_csv(\"./boston-housing/train.csv\")\n",
    "## Get first 13 columns as X\n",
    "X = train_data.values[:,1:-1]\n",
    "\n",
    "## Normalize X\n",
    "mean = X.mean(axis = 0)\n",
    "std = X.std(axis = 0)\n",
    "X_normalized = (X - mean)/std\n",
    "X_normalized = np.c_[np.ones(X.shape[0]), X_normalized]\n",
    "## Get last columns as y\n",
    "y = train_data.values[:,-1].reshape((X.shape[0],1))"
   ]
  },
  {
   "cell_type": "code",
   "execution_count": 192,
   "metadata": {
    "ExecuteTime": {
     "end_time": "2019-07-05T14:59:51.872348Z",
     "start_time": "2019-07-05T14:59:51.862907Z"
    }
   },
   "outputs": [],
   "source": []
  },
  {
   "cell_type": "code",
   "execution_count": 193,
   "metadata": {
    "ExecuteTime": {
     "end_time": "2019-07-05T14:59:52.583177Z",
     "start_time": "2019-07-05T14:59:52.553289Z"
    }
   },
   "outputs": [],
   "source": [
    "sgd_losses, sgd_beta = minibatch_training(1, 1000, 0.01, False)"
   ]
  },
  {
   "cell_type": "code",
   "execution_count": 178,
   "metadata": {
    "ExecuteTime": {
     "end_time": "2019-07-05T14:56:14.699106Z",
     "start_time": "2019-07-05T14:56:14.309952Z"
    }
   },
   "outputs": [
    {
     "data": {
      "image/png": "[encoded data removed]",
      "text/plain": [
       "<Figure size 432x288 with 1 Axes>"
      ]
     },
     "metadata": {
      "needs_background": "light"
     },
     "output_type": "display_data"
    }
   ],
   "source": [
    "plt.plot(sgd_losses, label = 'SGD 0.01 lr, no accelerated')\n",
    "acc_sgd_losses, acc_sgd_beta = minibatch_training(1, 1000, 0.01, True)\n",
    "plt.plot(acc_sgd_losses, label = 'SGD 0.01 lr, accelerated')\n",
    "plt.legend()\n",
    "plt.xlabel(\"iterations\")\n",
    "plt.ylabel(\"loss\")\n",
    "plt.show()"
   ]
  },
  {
   "cell_type": "code",
   "execution_count": 184,
   "metadata": {
    "ExecuteTime": {
     "end_time": "2019-07-05T14:57:11.540696Z",
     "start_time": "2019-07-05T14:57:11.283275Z"
    }
   },
   "outputs": [
    {
     "data": {
      "image/png": "[encoded data removed]",
      "text/plain": [
       "<Figure size 432x288 with 1 Axes>"
      ]
     },
     "metadata": {
      "needs_background": "light"
     },
     "output_type": "display_data"
    }
   ],
   "source": [
    "plt.plot(sgd_losses, label = 'SGD 0.01 lr, no accelerated')\n",
    "acc_sgd_losses, acc_sgd_beta = minibatch_training(1, 1000, 0.001, True)\n",
    "plt.plot(acc_sgd_losses, label = 'SGD 0.001 lr, accelerated')\n",
    "plt.xlabel(\"iterations\")\n",
    "plt.ylabel(\"loss\")\n",
    "plt.legend()\n",
    "plt.show()"
   ]
  },
  {
   "cell_type": "code",
   "execution_count": 185,
   "metadata": {
    "ExecuteTime": {
     "end_time": "2019-07-05T14:57:12.361499Z",
     "start_time": "2019-07-05T14:57:12.034453Z"
    }
   },
   "outputs": [
    {
     "data": {
      "image/png": "[encoded data removed]",
      "text/plain": [
       "<Figure size 432x288 with 1 Axes>"
      ]
     },
     "metadata": {
      "needs_background": "light"
     },
     "output_type": "display_data"
    }
   ],
   "source": [
    "plt.plot(sgd_losses, label = 'SGD 0.01 lr, no accelerated')\n",
    "acc_sgd_losses, acc_sgd_beta = minibatch_training(1, 1000, 0.0001, True)\n",
    "plt.plot(acc_sgd_losses, label = 'SGD 0.0001 lr, accelerated')\n",
    "plt.xlabel(\"iterations\")\n",
    "plt.ylabel(\"loss\")\n",
    "plt.legend()\n",
    "plt.show()"
   ]
  },
  {
   "cell_type": "code",
   "execution_count": 186,
   "metadata": {
    "ExecuteTime": {
     "end_time": "2019-07-05T14:57:30.004028Z",
     "start_time": "2019-07-05T14:57:29.669865Z"
    }
   },
   "outputs": [
    {
     "data": {
      "image/png": "[encoded data removed]",
      "text/plain": [
       "<Figure size 432x288 with 1 Axes>"
      ]
     },
     "metadata": {
      "needs_background": "light"
     },
     "output_type": "display_data"
    }
   ],
   "source": [
    "minibatch_losses, minibatch_beta = minibatch_training(6, 1000, 0.01, False)\n",
    "plt.plot(minibatch_losses, label = 'batchsize 6, lr 0.01, no accelerated')\n",
    "minibatch_losses, minibatch_beta = minibatch_training(6, 1000, 0.01, True)\n",
    "plt.plot(minibatch_losses, label = 'batchsize 6, lr 0.01, accelerated')\n",
    "plt.xlabel(\"iterations\")\n",
    "plt.ylabel(\"loss\")\n",
    "plt.legend()\n",
    "plt.show()\n"
   ]
  },
  {
   "cell_type": "code",
   "execution_count": 187,
   "metadata": {
    "ExecuteTime": {
     "end_time": "2019-07-05T14:57:31.066699Z",
     "start_time": "2019-07-05T14:57:30.860114Z"
    }
   },
   "outputs": [
    {
     "data": {
      "image/png": "[encoded data removed]",
      "text/plain": [
       "<Figure size 432x288 with 1 Axes>"
      ]
     },
     "metadata": {
      "needs_background": "light"
     },
     "output_type": "display_data"
    }
   ],
   "source": [
    "minibatch_losses, minibatch_beta = minibatch_training(32, 200, 0.01, False)\n",
    "plt.plot(minibatch_losses, label = 'batchsize 32, lr 0.01, no accelerated')\n",
    "minibatch_losses, minibatch_beta = minibatch_training(32, 200, 0.01, True)\n",
    "plt.plot(minibatch_losses, label = 'batchsize 32, lr 0.01, accelerated')\n",
    "plt.xlabel(\"iterations\")\n",
    "plt.ylabel(\"loss\")\n",
    "plt.legend()\n",
    "plt.show()\n"
   ]
  },
  {
   "cell_type": "code",
   "execution_count": 191,
   "metadata": {
    "ExecuteTime": {
     "end_time": "2019-07-05T14:59:28.166924Z",
     "start_time": "2019-07-05T14:59:28.152940Z"
    }
   },
   "outputs": [
    {
     "data": {
      "text/plain": [
       "[]"
      ]
     },
     "execution_count": 191,
     "metadata": {},
     "output_type": "execute_result"
    }
   ],
   "source": [
    "sgd_losses"
   ]
  },
  {
   "cell_type": "code",
   "execution_count": 223,
   "metadata": {
    "ExecuteTime": {
     "end_time": "2019-07-05T15:10:34.355433Z",
     "start_time": "2019-07-05T15:10:33.948231Z"
    }
   },
   "outputs": [
    {
     "data": {
      "image/png": "[encoded data removed]",
      "text/plain": [
       "<Figure size 432x288 with 1 Axes>"
      ]
     },
     "metadata": {
      "needs_background": "light"
     },
     "output_type": "display_data"
    }
   ],
   "source": [
    "sgd_losses, sgd_beta = minibatch_training(1, 1000, 0.001, False)\n",
    "plt.plot(sgd_losses, label = 'SGD, lr 0.001, no accelerated')\n",
    "minibatch_losses, minibatch_beta = minibatch_training(32, 1000, 0.001, True)\n",
    "plt.plot(minibatch_losses, label = 'batchsize 32, lr 0.001, accelerated')\n",
    "plt.xlabel(\"iterations\")\n",
    "plt.ylabel(\"loss\")\n",
    "plt.legend()\n",
    "plt.show()\n"
   ]
  },
  {
   "cell_type": "markdown",
   "metadata": {},
   "source": [
    "## Implementation for Newton method"
   ]
  },
  {
   "cell_type": "code",
   "execution_count": 197,
   "metadata": {
    "ExecuteTime": {
     "end_time": "2019-07-05T15:02:41.665022Z",
     "start_time": "2019-07-05T15:02:41.646746Z"
    }
   },
   "outputs": [],
   "source": [
    "## Hessian matrix:\n",
    "N = X_normalized.shape[0]\n",
    "hess_matrix = 2/N * X_normalized.T.dot(X_normalized)\n",
    "hess_inversed = np.linalg.pinv(hess_matrix)"
   ]
  },
  {
   "cell_type": "code",
   "execution_count": 198,
   "metadata": {
    "ExecuteTime": {
     "end_time": "2019-07-05T15:03:01.772419Z",
     "start_time": "2019-07-05T15:03:01.758195Z"
    }
   },
   "outputs": [],
   "source": [
    "newton_beta =  np.zeros((X_normalized.shape[1],1))\n",
    "losses = []\n",
    "grad = compute_gradient(X_normalized, y, newton_beta)\n",
    "grad_norm = np.sqrt(grad.T.dot(grad))\n",
    "num_iters = 0\n",
    "while grad_norm > 1e-6 and num_iters < 1e3:\n",
    "    loss = compute_loss(X_normalized, y, newton_beta)\n",
    "    grad = compute_gradient(X_normalized, y, newton_beta)\n",
    "    grad_norm = np.sqrt(grad.T.dot(grad))\n",
    "    newton_beta = newton_beta - hess_inversed.dot(grad)\n",
    "    \n",
    "    losses.append(loss)\n",
    "    num_iters += 1"
   ]
  },
  {
   "cell_type": "code",
   "execution_count": 199,
   "metadata": {
    "ExecuteTime": {
     "end_time": "2019-07-05T15:03:02.939636Z",
     "start_time": "2019-07-05T15:03:02.935357Z"
    }
   },
   "outputs": [
    {
     "data": {
      "text/plain": [
       "[602.3166366366366, 22.389549423647892]"
      ]
     },
     "execution_count": 199,
     "metadata": {},
     "output_type": "execute_result"
    }
   ],
   "source": [
    "losses"
   ]
  },
  {
   "cell_type": "code",
   "execution_count": 200,
   "metadata": {
    "ExecuteTime": {
     "end_time": "2019-07-05T15:03:06.572220Z",
     "start_time": "2019-07-05T15:03:06.565676Z"
    }
   },
   "outputs": [
    {
     "data": {
      "text/plain": [
       "array([[22.76876877],\n",
       "       [-0.38533599],\n",
       "       [ 1.07418454],\n",
       "       [ 0.37631929],\n",
       "       [ 0.89927653],\n",
       "       [-1.80662577],\n",
       "       [ 2.64908845],\n",
       "       [-0.12996621],\n",
       "       [-3.06379849],\n",
       "       [ 2.87156628],\n",
       "       [-2.19483476],\n",
       "       [-1.84128775],\n",
       "       [ 1.00856953],\n",
       "       [-4.23652255]])"
      ]
     },
     "execution_count": 200,
     "metadata": {},
     "output_type": "execute_result"
    }
   ],
   "source": [
    "newton_beta"
   ]
  },
  {
   "cell_type": "markdown",
   "metadata": {},
   "source": [
    "## Compare result with sklearn library"
   ]
  },
  {
   "cell_type": "code",
   "execution_count": 204,
   "metadata": {
    "ExecuteTime": {
     "end_time": "2019-07-05T15:06:15.323662Z",
     "start_time": "2019-07-05T15:06:15.307548Z"
    }
   },
   "outputs": [
    {
     "name": "stdout",
     "output_type": "stream",
     "text": [
      "running_time: 0:00:00.010165\n"
     ]
    }
   ],
   "source": [
    "from sklearn.linear_model import LinearRegression\n",
    "reg = LinearRegression()\n",
    "start_time = datetime.now()\n",
    "reg.fit(X_normalized, y)\n",
    "print('running_time:', datetime.now() - start_time)\n"
   ]
  },
  {
   "cell_type": "code",
   "execution_count": 203,
   "metadata": {
    "ExecuteTime": {
     "end_time": "2019-07-05T15:06:10.508827Z",
     "start_time": "2019-07-05T15:06:10.499140Z"
    }
   },
   "outputs": [
    {
     "data": {
      "text/plain": [
       "array([22.76876877, -0.38533599,  1.07418454,  0.37631929,  0.89927653,\n",
       "       -1.80662577,  2.64908845, -0.12996621, -3.06379849,  2.87156628,\n",
       "       -2.19483476, -1.84128775,  1.00856953, -4.23652255])"
      ]
     },
     "execution_count": 203,
     "metadata": {},
     "output_type": "execute_result"
    }
   ],
   "source": [
    "beta = reg.coef_[0]\n",
    "beta[0] = reg.intercept_\n",
    "beta"
   ]
  },
  {
   "cell_type": "code",
   "execution_count": 227,
   "metadata": {
    "ExecuteTime": {
     "end_time": "2019-07-05T15:25:10.570935Z",
     "start_time": "2019-07-05T15:25:10.567211Z"
    }
   },
   "outputs": [
    {
     "name": "stdout",
     "output_type": "stream",
     "text": [
      "Difference between Newton method's result and sklearn library:  6.295378177329821e-15\n"
     ]
    }
   ],
   "source": [
    " \n",
    "print(\"Difference between Newton method's result and sklearn library: \",norm_l2(beta-newton_beta.T[0]))"
   ]
  },
  {
   "cell_type": "code",
   "execution_count": 225,
   "metadata": {
    "ExecuteTime": {
     "end_time": "2019-07-05T15:10:40.870387Z",
     "start_time": "2019-07-05T15:10:40.861005Z"
    }
   },
   "outputs": [
    {
     "name": "stdout",
     "output_type": "stream",
     "text": [
      "Difference between Minibatch GD method's result and sklearn library:  0.4248816868514875\n"
     ]
    }
   ],
   "source": [
    " \n",
    "print(\"Difference between Minibatch GD method's result and sklearn library: \",norm_l2(beta-minibatch_beta.T[0]))"
   ]
  },
  {
   "cell_type": "code",
   "execution_count": null,
   "metadata": {},
   "outputs": [],
   "source": []
  }
 ],
 "metadata": {
  "kernelspec": {
   "display_name": "Python 3",
   "language": "python",
   "name": "python3"
  },
  "language_info": {
   "codemirror_mode": {
    "name": "ipython",
    "version": 3
   },
   "file_extension": ".py",
   "mimetype": "text/x-python",
   "name": "python",
   "nbconvert_exporter": "python",
   "pygments_lexer": "ipython3",
   "version": "3.7.1"
  },
  "toc": {
   "base_numbering": 1,
   "nav_menu": {},
   "number_sections": true,
   "sideBar": true,
   "skip_h1_title": false,
   "title_cell": "Table of Contents",
   "title_sidebar": "Contents",
   "toc_cell": false,
   "toc_position": {},
   "toc_section_display": true,
   "toc_window_display": false
  }
 },
 "nbformat": 4,
 "nbformat_minor": 2
}
