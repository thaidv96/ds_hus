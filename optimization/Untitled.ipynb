{
 "cells": [
  {
   "cell_type": "code",
   "execution_count": 3,
   "metadata": {
    "ExecuteTime": {
     "end_time": "2019-07-06T06:02:01.296813Z",
     "start_time": "2019-07-06T06:02:01.249768Z"
    }
   },
   "outputs": [
    {
     "name": "stdout",
     "output_type": "stream",
     "text": [
      "X =\n",
      "\n",
      "   0.77648   0.89642   0.48645\n",
      "   0.33920   0.88249   0.65915\n",
      "   0.63492   0.10272   0.55139\n",
      "\n"
     ]
    }
   ],
   "source": [
    "X = [.77647525 0.89642059 0.48644808\n",
    " ;.33919845 0.88249125 0.65915077\n",
    " ;.63491928 0.10271853 0.55138602]"
   ]
  },
  {
   "cell_type": "code",
   "execution_count": 4,
   "metadata": {
    "ExecuteTime": {
     "end_time": "2019-07-06T06:02:04.312477Z",
     "start_time": "2019-07-06T06:02:04.300177Z"
    }
   },
   "outputs": [
    {
     "name": "stdout",
     "output_type": "stream",
     "text": [
      "X =\n",
      "\n",
      "   0.77648   0.89642   0.48645\n",
      "   0.33920   0.88249   0.65915\n",
      "   0.63492   0.10272   0.55139\n",
      "\n"
     ]
    }
   ],
   "source": [
    "X"
   ]
  },
  {
   "cell_type": "code",
   "execution_count": 8,
   "metadata": {
    "ExecuteTime": {
     "end_time": "2019-07-06T06:02:57.746263Z",
     "start_time": "2019-07-06T06:02:57.720276Z"
    }
   },
   "outputs": [
    {
     "name": "stdout",
     "output_type": "stream",
     "text": [
      "x1 =\n",
      "\n",
      "   0.119945  -0.145014  -0.409973\n",
      "   0.543293   0.159976  -0.223340\n",
      "  -0.532201  -0.041767   0.448667\n",
      "\n",
      "x2 =\n",
      "\n",
      "  -0.437277  -0.013929   0.172703\n",
      "  -0.070778  -0.396851   0.032469\n",
      "   0.295721  -0.779773  -0.107765\n",
      "\n"
     ]
    }
   ],
   "source": [
    "[x1,x2] = gradient(X)"
   ]
  },
  {
   "cell_type": "code",
   "execution_count": 9,
   "metadata": {
    "ExecuteTime": {
     "end_time": "2019-07-06T06:03:12.621660Z",
     "start_time": "2019-07-06T06:03:12.603032Z"
    }
   },
   "outputs": [
    {
     "name": "stdout",
     "output_type": "stream",
     "text": [
      "ans =\n",
      "\n",
      "   0.101540  -0.647881  -0.405193\n",
      "  -0.016818  -0.766238  -0.523550\n",
      "   0.856933   0.107512   0.350200\n",
      "\n"
     ]
    }
   ],
   "source": [
    "divergence(x1, x2)"
   ]
  },
  {
   "cell_type": "code",
   "execution_count": null,
   "metadata": {},
   "outputs": [],
   "source": []
  }
 ],
 "metadata": {
  "kernelspec": {
   "display_name": "Octave",
   "language": "octave",
   "name": "octave"
  },
  "language_info": {
   "file_extension": ".m",
   "help_links": [
    {
     "text": "GNU Octave",
     "url": "https://www.gnu.org/software/octave/support.html"
    },
    {
     "text": "Octave Kernel",
     "url": "https://github.com/Calysto/octave_kernel"
    },
    {
     "text": "MetaKernel Magics",
     "url": "https://metakernel.readthedocs.io/en/latest/source/README.html"
    }
   ],
   "mimetype": "text/x-octave",
   "name": "octave",
   "version": "4.4.1"
  },
  "toc": {
   "base_numbering": 1,
   "nav_menu": {},
   "number_sections": true,
   "sideBar": true,
   "skip_h1_title": false,
   "title_cell": "Table of Contents",
   "title_sidebar": "Contents",
   "toc_cell": false,
   "toc_position": {},
   "toc_section_display": true,
   "toc_window_display": false
  }
 },
 "nbformat": 4,
 "nbformat_minor": 2
}
